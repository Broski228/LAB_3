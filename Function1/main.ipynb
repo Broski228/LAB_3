{
 "cells": [
  {
   "cell_type": "code",
   "execution_count": 2,
   "id": "78dd5519-bfa7-4c0d-a6f7-5394213f3ba9",
   "metadata": {},
   "outputs": [
    {
     "name": "stdin",
     "output_type": "stream",
     "text": [
      "Input grams:  2\n"
     ]
    },
    {
     "name": "stdout",
     "output_type": "stream",
     "text": [
      "Ounces:  56.6990462\n"
     ]
    }
   ],
   "source": [
    "def Conv(grams):\n",
    "    ounces = 28.3495231 * grams\n",
    "    return ounces\n",
    "grams = int(input(\"Input grams: \"))\n",
    "print(\"Ounces: \", Conv(grams))"
   ]
  },
  {
   "cell_type": "code",
   "execution_count": 4,
   "id": "9af683b8-d473-4eab-b111-0ac167a78201",
   "metadata": {},
   "outputs": [
    {
     "name": "stdin",
     "output_type": "stream",
     "text": [
      "Input Fahr temperature:  0\n"
     ]
    },
    {
     "name": "stdout",
     "output_type": "stream",
     "text": [
      "From Fahrenheit to Celsium : -17.77777777777778\n"
     ]
    }
   ],
   "source": [
    "def Temp(F):\n",
    "    C = (5/9) * (F - 32)\n",
    "    print(\"From Fahrenheit to Celsium :\", C )\n",
    "\n",
    "F = int(input(\"Input Fahr temperature: \"))\n",
    "Temp(F)"
   ]
  },
  {
   "cell_type": "code",
   "execution_count": 7,
   "id": "b1c9b813-8ad2-49f3-8395-db1d84cb2898",
   "metadata": {},
   "outputs": [
    {
     "name": "stdout",
     "output_type": "stream",
     "text": [
      "(23, 12)\n"
     ]
    }
   ],
   "source": [
    "def Puzzle(numheads, numlegs): #c + r = 35   2c + 4r = 94\n",
    "    for cock in range (numheads + 1):\n",
    "        rab = numheads - cock\n",
    "        if(2 * cock + 4 * rab) == numlegs:\n",
    "            return cock, rab\n",
    "head = 35\n",
    "legs = 94\n",
    "print(Puzzle(head, legs))"
   ]
  },
  {
   "cell_type": "code",
   "execution_count": 15,
   "id": "0255ed84-a8bb-4669-8078-6584718b995d",
   "metadata": {},
   "outputs": [
    {
     "name": "stdout",
     "output_type": "stream",
     "text": [
      "[2, 3, 7, 89]\n"
     ]
    }
   ],
   "source": [
    "def filter_prime(a):\n",
    "    b = []\n",
    "    for i in a:\n",
    "        if i > 1:\n",
    "            for j in range(2, int(i ** 0.5) + 1):\n",
    "                if i % j == 0:\n",
    "                    break\n",
    "            else:\n",
    "                b.append(i)\n",
    "    return b\n",
    "\n",
    "n = [2, 3, 4, 6, 7, 89,9]\n",
    "print(filter_prime(n))"
   ]
  },
  {
   "cell_type": "code",
   "execution_count": 23,
   "id": "31c74673-8565-43d2-858e-bc8419911969",
   "metadata": {},
   "outputs": [
    {
     "name": "stdin",
     "output_type": "stream",
     "text": [
      "Enter a string:  abc\n"
     ]
    },
    {
     "name": "stdout",
     "output_type": "stream",
     "text": [
      "abc\n",
      "acb\n",
      "bac\n",
      "bca\n",
      "cab\n",
      "cba\n"
     ]
    }
   ],
   "source": [
    "import itertools\n",
    "\n",
    "def print_permutations():\n",
    "   \n",
    "    user_input = input(\"Enter a string: \")\n",
    "    \n",
    " \n",
    "    permutations = itertools.permutations(user_input)\n",
    "    \n",
    "\n",
    "    for perm in permutations:\n",
    "        print(''.join(perm))\n",
    "\n",
    "\n",
    "print_permutations()\n"
   ]
  },
  {
   "cell_type": "code",
   "execution_count": 21,
   "id": "ae409383-e55c-4079-9579-16a67fb61e06",
   "metadata": {},
   "outputs": [
    {
     "name": "stdin",
     "output_type": "stream",
     "text": [
      "Enter a sentence:  brotha im tired of doing this\n"
     ]
    },
    {
     "name": "stdout",
     "output_type": "stream",
     "text": [
      "this doing of tired im brotha\n"
     ]
    }
   ],
   "source": [
    "def reverse_words(sentence):\n",
    "\n",
    "    words = sentence.split()\n",
    "  \n",
    "    reversed_words = ' '.join(reversed(words))\n",
    "    return reversed_words\n",
    "\n",
    "\n",
    "user_input = input(\"Enter a sentence: \")\n",
    "\n",
    "\n",
    "print(reverse_words(user_input))\n"
   ]
  },
  {
   "cell_type": "code",
   "execution_count": 22,
   "id": "263754ff-176b-48b2-a8c3-d18b4586c5f2",
   "metadata": {},
   "outputs": [
    {
     "name": "stdout",
     "output_type": "stream",
     "text": [
      "True\n",
      "False\n",
      "False\n"
     ]
    }
   ],
   "source": [
    "def has_33(nums):\n",
    "    \n",
    "    for i in range(len(nums) - 1): \n",
    "        if nums[i] == 3 and nums[i + 1] == 3:\n",
    "            return True\n",
    "    return False\n",
    "\n",
    "\n",
    "print(has_33([1, 3, 3])) \n",
    "print(has_33([1, 3, 1, 3])) \n",
    "print(has_33([3, 1, 3]))  \n"
   ]
  },
  {
   "cell_type": "code",
   "execution_count": 24,
   "id": "166d6bb0-2dd6-4043-90ed-615be79ed468",
   "metadata": {},
   "outputs": [
    {
     "name": "stdout",
     "output_type": "stream",
     "text": [
      "True\n",
      "True\n",
      "False\n"
     ]
    }
   ],
   "source": [
    "def spy_game(nums):\n",
    " \n",
    "    target = [0, 0, 7]\n",
    "   \n",
    "    for num in nums:\n",
    "        if num == target[0]:\n",
    "            target.pop(0)  \n",
    "        if not target:  \n",
    "            return True\n",
    "    return False\n",
    "\n",
    "\n",
    "print(spy_game([1, 2, 4, 0, 0, 7, 5]))  # True\n",
    "print(spy_game([1, 0, 2, 4, 0, 5, 7]))  # True\n",
    "print(spy_game([1, 7, 2, 0, 4, 5, 0]))  # False\n"
   ]
  },
  {
   "cell_type": "code",
   "execution_count": 1,
   "id": "e0f2c051-3f23-40c1-9af5-bf582b725152",
   "metadata": {},
   "outputs": [
    {
     "name": "stdin",
     "output_type": "stream",
     "text": [
      "  3\n"
     ]
    },
    {
     "name": "stdout",
     "output_type": "stream",
     "text": [
      "113.1\n"
     ]
    }
   ],
   "source": [
    "import math\n",
    "def V(r):\n",
    "    return (4/3) * math.pi * (r**3) \n",
    "\n",
    "r = int(input(' '))\n",
    "print(round(V(r), 2))"
   ]
  },
  {
   "cell_type": "code",
   "execution_count": 26,
   "id": "33dbac40-488d-46d8-93b2-9104d0feaa48",
   "metadata": {},
   "outputs": [
    {
     "name": "stdout",
     "output_type": "stream",
     "text": [
      "[1, 2, 3, 4, 5, 6]\n"
     ]
    }
   ],
   "source": [
    "def unique_elements(lst):\n",
    "    unique_lst = []\n",
    "    for item in lst:\n",
    "        if item not in unique_lst:  \n",
    "            unique_lst.append(item)\n",
    "    return unique_lst\n",
    "\n",
    "\n",
    "my_list = [1, 2, 2, 3, 4, 4, 5, 5, 6]\n",
    "print(unique_elements(my_list))  \n"
   ]
  },
  {
   "cell_type": "code",
   "execution_count": 29,
   "id": "76122467-bc5b-4c04-ac96-b4cb0eabde4e",
   "metadata": {},
   "outputs": [
    {
     "name": "stdin",
     "output_type": "stream",
     "text": [
      "Enter a word or phrase:  bob\n"
     ]
    },
    {
     "name": "stdout",
     "output_type": "stream",
     "text": [
      "'bob' is a palindrome!\n"
     ]
    }
   ],
   "source": [
    "def is_palindrome(s):\n",
    "    \n",
    "    cleaned_s = ''.join(char.lower() for char in s if char.isalnum())\n",
    "    \n",
    "    return cleaned_s == cleaned_s[::-1]\n",
    "\n",
    "# Example usage\n",
    "phrase = input(\"Enter a word or phrase: \")\n",
    "if is_palindrome(phrase):\n",
    "    print(f\"'{phrase}' is a palindrome!\")\n",
    "else:\n",
    "    print(f\"'{phrase}' is not a palindrome.\")"
   ]
  },
  {
   "cell_type": "code",
   "execution_count": 31,
   "id": "fb223aea-2f06-4cfc-acd7-535d75055a97",
   "metadata": {},
   "outputs": [
    {
     "name": "stdout",
     "output_type": "stream",
     "text": [
      "****\n",
      "*********\n",
      "*******\n",
      "*********\n"
     ]
    }
   ],
   "source": [
    "def histogram(lst):\n",
    "    for num in lst:\n",
    "        print('*' * num)\n",
    "histogram([4, 9, 7, 9])\n",
    "    "
   ]
  },
  {
   "cell_type": "code",
   "execution_count": 34,
   "id": "0b9ebc19-7e6b-4f00-a0ef-3b19392740ea",
   "metadata": {},
   "outputs": [
    {
     "name": "stdout",
     "output_type": "stream",
     "text": [
      "Hello! What is ur name?\n"
     ]
    },
    {
     "name": "stdin",
     "output_type": "stream",
     "text": [
      "  Diddy\n"
     ]
    },
    {
     "name": "stdout",
     "output_type": "stream",
     "text": [
      "Well Diddy I am thinking of a number between 1 and 20.\n",
      "Take a guess\n"
     ]
    },
    {
     "name": "stdin",
     "output_type": "stream",
     "text": [
      "  10\n"
     ]
    },
    {
     "name": "stdout",
     "output_type": "stream",
     "text": [
      "Your guess is too low.\n",
      "Take a guess\n"
     ]
    },
    {
     "name": "stdin",
     "output_type": "stream",
     "text": [
      "  15\n"
     ]
    },
    {
     "name": "stdout",
     "output_type": "stream",
     "text": [
      "Your guess is too low.\n",
      "Take a guess\n"
     ]
    },
    {
     "name": "stdin",
     "output_type": "stream",
     "text": [
      "  18\n"
     ]
    },
    {
     "name": "stdout",
     "output_type": "stream",
     "text": [
      "Your guess is too low.\n",
      "Take a guess\n"
     ]
    },
    {
     "name": "stdin",
     "output_type": "stream",
     "text": [
      "  19\n"
     ]
    },
    {
     "name": "stdout",
     "output_type": "stream",
     "text": [
      "Your guess is too low.\n",
      "Take a guess\n"
     ]
    },
    {
     "name": "stdin",
     "output_type": "stream",
     "text": [
      "  20\n"
     ]
    },
    {
     "name": "stdout",
     "output_type": "stream",
     "text": [
      "Good job Diddy ! KBTU is proud of u, u get +20 social credits and lose all reatakes. U did in 5 attempts!\n"
     ]
    }
   ],
   "source": [
    "import random\n",
    "def game():\n",
    "    number = random.randint(1, 20)\n",
    "    print(\"Hello! What is ur name?\")\n",
    "    a = input(\" \")\n",
    "    print(\"Well\", a, \"I am thinking of a number between 1 and 20.\")\n",
    "    att = 0\n",
    "    \n",
    "    while True:\n",
    "        print(\"Take a guess\")\n",
    "        b = int(input(\" \"))\n",
    "        att += 1\n",
    "        if b < number :\n",
    "            print(\"Your guess is too low.\")\n",
    "        elif b > number:\n",
    "            print(\"Your guess is too hight.\")\n",
    "        else: \n",
    "            print(f\"Good job {a} ! KBTU is proud of u, u get +20 social credits and lose all reatakes. U did in {att} attempts!\")\n",
    "            break\n",
    "game()"
   ]
  },
  {
   "cell_type": "code",
   "execution_count": 2,
   "id": "53fcdac2-1d6b-41e7-809d-efb597ac6a74",
   "metadata": {},
   "outputs": [
    {
     "name": "stderr",
     "output_type": "stream",
     "text": [
      "[NbConvertApp] Converting notebook main.ipynb to script\n",
      "[NbConvertApp] Writing 3402 bytes to main.py\n"
     ]
    }
   ],
   "source": []
  },
  {
   "cell_type": "code",
   "execution_count": null,
   "id": "ad204377-89f8-4c0d-b26f-33ac92352855",
   "metadata": {},
   "outputs": [],
   "source": []
  }
 ],
 "metadata": {
  "kernelspec": {
   "display_name": "Python 3 (ipykernel)",
   "language": "python",
   "name": "python3"
  },
  "language_info": {
   "codemirror_mode": {
    "name": "ipython",
    "version": 3
   },
   "file_extension": ".py",
   "mimetype": "text/x-python",
   "name": "python",
   "nbconvert_exporter": "python",
   "pygments_lexer": "ipython3",
   "version": "3.12.3"
  }
 },
 "nbformat": 4,
 "nbformat_minor": 5
}
