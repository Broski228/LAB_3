{
 "cells": [
  {
   "cell_type": "code",
   "execution_count": 1,
   "id": "e14cee07-5500-4737-aa49-5ba6e41f5761",
   "metadata": {},
   "outputs": [],
   "source": [
    "class MyBroski:\n",
    "    def __init__(self):\n",
    "        self.text = \"\"\n",
    "\n",
    "    def getString(self):\n",
    "        self.text = input(\"Bro input smth here pls: \")\n",
    "\n",
    "    def printString(self):\n",
    "        print(self.text.upper())\n",
    "\n",
    "\n",
    "\n",
    "broski = MyBroski()\n",
    "broski.getString()  \n",
    "broski.printString()  "
   ]
  },
  {
   "cell_type": "code",
   "execution_count": null,
   "id": "ff7986db-1483-4b42-8233-49d735fe5688",
   "metadata": {},
   "outputs": [],
   "source": [
    "class Shape():\n",
    "    def _init_(self):\n",
    "        pass\n",
    "    def area(self):\n",
    "        return 0\n",
    "    \n",
    "class Square(Shape):\n",
    "        \n",
    "    def _init_(self, length):\n",
    "        self.length = length\n",
    "        \n",
    "    def area():\n",
    "        print(\"The Area of squ is: \", length ** 2)\n",
    "            \n",
    "\n",
    "class Rectangle(Shape):\n",
    "    def _init_(self):\n",
    "        pass\n",
    "    \n",
    "    class instance():\n",
    "        def _init_(self, length, width):\n",
    "            self.length = length\n",
    "            self.width = width\n",
    "            \n",
    "    def area(self, length, width):\n",
    "        print(\"The Area of rec is: \", length * width)\n",
    "shape = Shape()\n",
    "print(shape.area())"
   ]
  },
  {
   "cell_type": "code",
   "execution_count": null,
   "id": "c17d99fe-d35f-42a2-81f9-317bcc4289d2",
   "metadata": {},
   "outputs": [],
   "source": [
    "class Point:\n",
    "    def _init_ (self, x, y):\n",
    "        self.x = x\n",
    "        self.y = y\n",
    "\n",
    "    def show(self):\n",
    "        print(\"Point coordinates:\", self.x ,\",\", self.y)\n",
    "\n",
    "    def move(self, new_x, new_y):\n",
    "        self.new_x = new_x\n",
    "        self.new_y = new_y"
   ]
  },
  {
   "cell_type": "code",
   "execution_count": null,
   "id": "b5eef806-24e8-4410-9720-10274583cf83",
   "metadata": {},
   "outputs": [],
   "source": [
    "class Account():\n",
    "    def __init__(self, owner, balance):\n",
    "        self.owner = owner\n",
    "        self.balance = balance\n",
    "    def Deposit(self, balance):\n",
    "        return balance\n",
    "    def Withdraw(self, withdraw):\n",
    "        if withdraw > Deposit():\n",
    "            print(\"Yo bro, ur in ass\", \"U have no money on ur deposite, so ur broke now\")\n",
    "        else:\n",
    "            print(\"Oke\", \"Ur current balnce is:\", Deposit() - withdraw, \"now\")\n",
    "\n",
    "n = Account(NIr)"
   ]
  },
  {
   "cell_type": "code",
   "execution_count": 2,
   "id": "eca50a1b-5c62-4de2-989d-2364964092af",
   "metadata": {},
   "outputs": [
    {
     "name": "stdout",
     "output_type": "stream",
     "text": [
      "Account Owner: Big Mike Balance: 100\n",
      "Nice, bro! Deposited 50 . New balance: 150\n",
      "Aight, u got  30 . New balance: 120\n",
      "Yo bro, ur broke. U only have  120  but u tryna take 200\n",
      "Nah bro, withdrawal amount must be positive.\n",
      "Account Owner: Big Mike Balance: 120\n"
     ]
    }
   ],
   "source": [
    "class Account:\n",
    "    def __init__(self, owner, balance):\n",
    "        \n",
    "        self.owner = owner\n",
    "        self.balance = balance\n",
    "\n",
    "    def deposit(self, amount):\n",
    "       \n",
    "        if amount > 0:\n",
    "            self.balance += amount\n",
    "            print(\"Nice, bro! Deposited\", amount, \". New balance:\", self.balance)\n",
    "        else:\n",
    "            print(\"Yo, bro, deposit must be a positive number.\")\n",
    "\n",
    "    def withdraw(self, amount):\n",
    "       \n",
    "        if amount > self.balance:\n",
    "            print(\"Yo bro, ur broke. U only have \", self.balance, \" but u tryna take\", amount)\n",
    "        elif amount <= 0:\n",
    "            print(\"Nah bro, withdrawal amount must be positive.\")\n",
    "        else:\n",
    "            self.balance -= amount\n",
    "            print(\"Aight, u got \", amount, \". New balance:\", self.balance)\n",
    "\n",
    "    def __str__(self):\n",
    "        return f\"Account Owner: {self.owner} Balance: {self.balance}\"\n",
    "\n",
    "\n",
    "broski = Account(\"Big Mike\", 100)  # Creating an account with $100\n",
    "print(broski)  # Checking account details\n",
    "\n",
    "broski.deposit(50)   # Depositing $50\n",
    "broski.withdraw(30)  # Withdrawing $30\n",
    "broski.withdraw(200) # Attempt to overdraw\n",
    "broski.withdraw(-10) # Invalid withdrawal\n",
    "\n",
    "print(broski)  # Final account details\n"
   ]
  },
  {
   "cell_type": "code",
   "execution_count": 3,
   "id": "7327dc74-100c-4176-96b9-dbb67e92e454",
   "metadata": {},
   "outputs": [
    {
     "name": "stdout",
     "output_type": "stream",
     "text": [
      "[3, 7, 19, 23, 5]\n"
     ]
    }
   ],
   "source": [
    "\n",
    "is_prime = lambda n: n > 1 and all(n % i for i in range(2, int(n ** 0.5) + 1))\n",
    "\n",
    "numbers = [10, 15, 3, 7, 19, 23, 8, 4, 5]\n",
    "prime_numbers = list(filter(is_prime, numbers))\n",
    "\n",
    "print(prime_numbers)\n"
   ]
  },
  {
   "cell_type": "code",
   "execution_count": null,
   "id": "3da3cf1f-0b50-48d8-a700-787d2931d388",
   "metadata": {},
   "outputs": [],
   "source": []
  }
 ],
 "metadata": {
  "kernelspec": {
   "display_name": "Python 3 (ipykernel)",
   "language": "python",
   "name": "python3"
  },
  "language_info": {
   "codemirror_mode": {
    "name": "ipython",
    "version": 3
   },
   "file_extension": ".py",
   "mimetype": "text/x-python",
   "name": "python",
   "nbconvert_exporter": "python",
   "pygments_lexer": "ipython3",
   "version": "3.12.3"
  }
 },
 "nbformat": 4,
 "nbformat_minor": 5
}
