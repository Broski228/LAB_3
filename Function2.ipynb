{
 "cells": [
  {
   "cell_type": "code",
   "execution_count": 2,
   "id": "b5dea643-0b0a-42be-b0a7-34078c3c8b84",
   "metadata": {},
   "outputs": [],
   "source": [
    "# Dictionary of movies\n",
    "\n",
    "movies = [\n",
    "{\n",
    "\"name\": \"Usual Suspects\", \n",
    "\"imdb\": 7.0,\n",
    "\"category\": \"Thriller\"\n",
    "},\n",
    "{\n",
    "\"name\": \"Hitman\",\n",
    "\"imdb\": 6.3,\n",
    "\"category\": \"Action\"\n",
    "},\n",
    "{\n",
    "\"name\": \"Dark Knight\",\n",
    "\"imdb\": 9.0,\n",
    "\"category\": \"Adventure\"\n",
    "},\n",
    "{\n",
    "\"name\": \"The Help\",\n",
    "\"imdb\": 8.0,\n",
    "\"category\": \"Drama\"\n",
    "},\n",
    "{\n",
    "\"name\": \"The Choice\",\n",
    "\"imdb\": 6.2,\n",
    "\"category\": \"Romance\"\n",
    "},\n",
    "{\n",
    "\"name\": \"Colonia\",\n",
    "\"imdb\": 7.4,\n",
    "\"category\": \"Romance\"\n",
    "},\n",
    "{\n",
    "\"name\": \"Love\",\n",
    "\"imdb\": 6.0,\n",
    "\"category\": \"Romance\"\n",
    "},\n",
    "{\n",
    "\"name\": \"Bride Wars\",\n",
    "\"imdb\": 5.4,\n",
    "\"category\": \"Romance\"\n",
    "},\n",
    "{\n",
    "\"name\": \"AlphaJet\",\n",
    "\"imdb\": 3.2,\n",
    "\"category\": \"War\"\n",
    "},\n",
    "{\n",
    "\"name\": \"Ringing Crime\",\n",
    "\"imdb\": 4.0,\n",
    "\"category\": \"Crime\"\n",
    "},\n",
    "{\n",
    "\"name\": \"Joking muck\",\n",
    "\"imdb\": 7.2,\n",
    "\"category\": \"Comedy\"\n",
    "},\n",
    "{\n",
    "\"name\": \"What is the name\",\n",
    "\"imdb\": 9.2,\n",
    "\"category\": \"Suspense\"\n",
    "},\n",
    "{\n",
    "\"name\": \"Detective\",\n",
    "\"imdb\": 7.0,\n",
    "\"category\": \"Suspense\"\n",
    "},\n",
    "{\n",
    "\"name\": \"Exam\",\n",
    "\"imdb\": 4.2,\n",
    "\"category\": \"Thriller\"\n",
    "},\n",
    "{\n",
    "\"name\": \"We Two\",\n",
    "\"imdb\": 7.2,\n",
    "\"category\": \"Romance\"\n",
    "}\n",
    "]"
   ]
  },
  {
   "cell_type": "code",
   "execution_count": 4,
   "id": "2cdcaefe-90f2-4318-ad7b-59bc46ed3f49",
   "metadata": {},
   "outputs": [
    {
     "name": "stdout",
     "output_type": "stream",
     "text": [
      "True\n"
     ]
    }
   ],
   "source": [
    "def Anu(mv):\n",
    "   \n",
    "    return mv.get(\"imdb\", 0) > 5.5\n",
    "\n",
    "print(Anu(movies[2]))\n"
   ]
  },
  {
   "cell_type": "code",
   "execution_count": 6,
   "id": "9b95035d-d95c-42bf-99ff-a458cd27d9e2",
   "metadata": {},
   "outputs": [
    {
     "name": "stdout",
     "output_type": "stream",
     "text": [
      "[{'name': 'Usual Suspects', 'imdb': 7.0, 'category': 'Thriller'}, {'name': 'Hitman', 'imdb': 6.3, 'category': 'Action'}, {'name': 'Dark Knight', 'imdb': 9.0, 'category': 'Adventure'}, {'name': 'The Help', 'imdb': 8.0, 'category': 'Drama'}, {'name': 'The Choice', 'imdb': 6.2, 'category': 'Romance'}, {'name': 'Colonia', 'imdb': 7.4, 'category': 'Romance'}, {'name': 'Love', 'imdb': 6.0, 'category': 'Romance'}, {'name': 'Joking muck', 'imdb': 7.2, 'category': 'Comedy'}, {'name': 'What is the name', 'imdb': 9.2, 'category': 'Suspense'}, {'name': 'Detective', 'imdb': 7.0, 'category': 'Suspense'}, {'name': 'We Two', 'imdb': 7.2, 'category': 'Romance'}]\n"
     ]
    }
   ],
   "source": [
    "def An(sub):\n",
    "    a = []\n",
    "    for i in sub:\n",
    "        if i.get(\"imdb\", 0) > 5.5:\n",
    "            a.append(i)\n",
    "    return a\n",
    "\n",
    "print(An(movies))"
   ]
  },
  {
   "cell_type": "code",
   "execution_count": 10,
   "id": "d27206c0-0e55-40bb-99ae-696fccf70a25",
   "metadata": {},
   "outputs": [
    {
     "name": "stdin",
     "output_type": "stream",
     "text": [
      "Brotha Write the category Romance\n"
     ]
    },
    {
     "name": "stdout",
     "output_type": "stream",
     "text": [
      "[{'name': 'The Choice', 'imdb': 6.2, 'category': 'Romance'}, {'name': 'Colonia', 'imdb': 7.4, 'category': 'Romance'}, {'name': 'Love', 'imdb': 6.0, 'category': 'Romance'}, {'name': 'Bride Wars', 'imdb': 5.4, 'category': 'Romance'}, {'name': 'We Two', 'imdb': 7.2, 'category': 'Romance'}]\n"
     ]
    }
   ],
   "source": [
    "def Cat(movies, Cate):\n",
    "    b =[]\n",
    "    for i in movies:\n",
    "        if i.get(\"category\", \"\") == Cate:\n",
    "            b.append(i)\n",
    "    return b\n",
    "Cate = input(\"Brotha Write the category\")\n",
    "print(Cat(movies, Cate))"
   ]
  },
  {
   "cell_type": "code",
   "execution_count": 11,
   "id": "5e982eb3-2dfe-42e9-b44d-0fe491149849",
   "metadata": {},
   "outputs": [
    {
     "name": "stdout",
     "output_type": "stream",
     "text": [
      "6.486666666666667\n"
     ]
    }
   ],
   "source": [
    "def Avg(mov):\n",
    "    g = 0\n",
    "    r = 0\n",
    "    for i in mov:\n",
    "        g += i.get(\"imdb\")\n",
    "        r += 1\n",
    "    return g / r\n",
    "print(Avg(movies))"
   ]
  },
  {
   "cell_type": "code",
   "execution_count": 16,
   "id": "d0149cb4-eb63-4ff6-bb3f-c1b8f6742993",
   "metadata": {},
   "outputs": [
    {
     "name": "stdin",
     "output_type": "stream",
     "text": [
      "Input the category bro:  Thriller\n"
     ]
    },
    {
     "name": "stdout",
     "output_type": "stream",
     "text": [
      "5.6\n"
     ]
    }
   ],
   "source": [
    "def C(mov, Cat):\n",
    "    r = []\n",
    "    for i in mov:\n",
    "        if i.get(\"category\",\"\") == Cat:\n",
    "            r.append(i)\n",
    "    def Cavg(r):\n",
    "        a = 0\n",
    "        b = 0\n",
    "        for i in r:\n",
    "            a += i.get(\"imdb\")\n",
    "            b += 1\n",
    "        avg = a / b\n",
    "        return avg\n",
    "    return Cavg(r)\n",
    "    \n",
    "\n",
    "Cat = input(\"Input the category bro: \")\n",
    "print(C(movies, Cat))"
   ]
  },
  {
   "cell_type": "code",
   "execution_count": null,
   "id": "df76ae00-772c-4630-ac55-275f369da9a7",
   "metadata": {},
   "outputs": [],
   "source": []
  }
 ],
 "metadata": {
  "kernelspec": {
   "display_name": "Python 3 (ipykernel)",
   "language": "python",
   "name": "python3"
  },
  "language_info": {
   "codemirror_mode": {
    "name": "ipython",
    "version": 3
   },
   "file_extension": ".py",
   "mimetype": "text/x-python",
   "name": "python",
   "nbconvert_exporter": "python",
   "pygments_lexer": "ipython3",
   "version": "3.12.3"
  }
 },
 "nbformat": 4,
 "nbformat_minor": 5
}
